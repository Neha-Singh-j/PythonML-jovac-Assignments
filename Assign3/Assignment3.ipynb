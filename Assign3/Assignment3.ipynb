{
 "cells": [
  {
   "cell_type": "code",
   "execution_count": 1,
   "id": "ec8d0d48-f759-45f7-87e9-ce6cf33bd3e2",
   "metadata": {},
   "outputs": [
    {
     "name": "stdout",
     "output_type": "stream",
     "text": [
      "First three elements:\n",
      "A    25\n",
      "B    30\n",
      "C    35\n",
      "dtype: int64\n",
      "\n",
      "Statistics:\n",
      "Mean: 35.0\n",
      "Median: 35.0\n",
      "Standard Deviation: 7.905694150420948\n"
     ]
    }
   ],
   "source": [
    "# TASK1--------------------------------------------------------------------------------\n",
    "\n",
    "\n",
    "import pandas as pd\n",
    "\n",
    "# Step 1: Create a Pandas Series from the given list\n",
    "data = [25, 30, 35, 40, 45]\n",
    "s = pd.Series(data)\n",
    "\n",
    "# Step 2a: Assign custom indices\n",
    "s.index = ['A', 'B', 'C', 'D', 'E']\n",
    "\n",
    "# Step 2b: Display the first three elements\n",
    "print(\"First three elements:\")\n",
    "print(s.head(3))\n",
    "\n",
    "# Step 2c: Calculate mean, median, and standard deviation\n",
    "mean_val = s.mean()\n",
    "median_val = s.median()\n",
    "std_val = s.std()\n",
    "\n",
    "print(\"\\nStatistics:\")\n",
    "print(\"Mean:\", mean_val)\n",
    "print(\"Median:\", median_val)\n",
    "print(\"Standard Deviation:\", std_val)\n"
   ]
  },
  {
   "cell_type": "code",
   "execution_count": 2,
   "id": "201b5001-dcaa-4e22-9dad-03106fa55d0e",
   "metadata": {},
   "outputs": [
    {
     "name": "stdout",
     "output_type": "stream",
     "text": [
      "First two rows:\n",
      "    Name  Age  Gender  Marks\n",
      "0  Alice   20  Female     85\n",
      "1    Bob   22    Male     78\n",
      "\n",
      "Column Names: ['Name', 'Age', 'Gender', 'Marks']\n",
      "\n",
      "Data Types:\n",
      " Name      object\n",
      "Age        int64\n",
      "Gender    object\n",
      "Marks      int64\n",
      "dtype: object\n",
      "\n",
      "Summary Statistics:\n",
      "              Age      Marks\n",
      "count   5.000000   5.000000\n",
      "mean   20.400000  83.400000\n",
      "std     1.140175   7.334848\n",
      "min    19.000000  74.000000\n",
      "25%    20.000000  78.000000\n",
      "50%    20.000000  85.000000\n",
      "75%    21.000000  88.000000\n",
      "max    22.000000  92.000000\n",
      "\n",
      "DataFrame with 'Passed' column:\n",
      "     Name  Age  Gender  Marks  Passed\n",
      "0  Alice   20  Female     85    True\n",
      "1    Bob   22    Male     78   False\n",
      "2  Carol   19  Female     92    True\n",
      "3  David   21    Male     74   False\n",
      "4    Eve   20  Female     88    True\n"
     ]
    }
   ],
   "source": [
    "\n",
    "\n",
    "# TASK2-----------------------------------------------------------\n",
    "\n",
    "import pandas as pd\n",
    "\n",
    "# Step 1: Create the DataFrame\n",
    "data = {\n",
    "    'Name': ['Alice', 'Bob', 'Carol', 'David', 'Eve'],\n",
    "    'Age': [20, 22, 19, 21, 20],\n",
    "    'Gender': ['Female', 'Male', 'Female', 'Male', 'Female'],\n",
    "    'Marks': [85, 78, 92, 74, 88]\n",
    "}\n",
    "\n",
    "df = pd.DataFrame(data)\n",
    "\n",
    "# Step 2a: Display the first two rows\n",
    "print(\"First two rows:\")\n",
    "print(df.head(2))\n",
    "\n",
    "# Step 2b: Display column names, data types, and summary statistics\n",
    "print(\"\\nColumn Names:\", df.columns.tolist())\n",
    "print(\"\\nData Types:\\n\", df.dtypes)\n",
    "print(\"\\nSummary Statistics:\\n\", df.describe())\n",
    "\n",
    "# Step 2c: Add 'Passed' column (Marks >= 80)\n",
    "df['Passed'] = df['Marks'] >= 80\n",
    "print(\"\\nDataFrame with 'Passed' column:\\n\", df)\n"
   ]
  },
  {
   "cell_type": "code",
   "execution_count": 4,
   "id": "8a2847f2-ba6d-4c06-8712-6105f9f0e4db",
   "metadata": {},
   "outputs": [
    {
     "name": "stdout",
     "output_type": "stream",
     "text": [
      "Name and Marks columns:\n",
      "    Name  Marks\n",
      "0  Alice     85\n",
      "1    Bob     78\n",
      "2  Carol     92\n",
      "3  David     74\n",
      "4    Eve     88\n",
      "\n",
      "Students with Marks > 80:\n",
      "    Name  Age  Gender  Marks  Passed\n",
      "0  Alice   20  Female     85    True\n",
      "2  Carol   19  Female     92    True\n",
      "4    Eve   20  Female     88    True\n",
      "\n",
      "Student with the highest marks:\n",
      "    Name  Age  Gender  Marks  Passed\n",
      "2  Carol   19  Female     92    True\n"
     ]
    }
   ],
   "source": [
    "# TASK3-----------------------------------------------------\n",
    "import pandas as pd\n",
    "\n",
    "# Recreate the DataFrame from Task 2\n",
    "data = {\n",
    "    'Name': ['Alice', 'Bob', 'Carol', 'David', 'Eve'],\n",
    "    'Age': [20, 22, 19, 21, 20],\n",
    "    'Gender': ['Female', 'Male', 'Female', 'Male', 'Female'],\n",
    "    'Marks': [85, 78, 92, 74, 88]\n",
    "}\n",
    "\n",
    "df = pd.DataFrame(data)\n",
    "df['Passed'] = df['Marks'] >= 80\n",
    "\n",
    "# Step 1: Select and display Name and Marks columns\n",
    "print(\"Name and Marks columns:\")\n",
    "print(df[['Name', 'Marks']])\n",
    "\n",
    "# Step 2: Filter and display records where Marks > 80\n",
    "print(\"\\nStudents with Marks > 80:\")\n",
    "print(df[df['Marks'] > 80])\n",
    "\n",
    "# Step 3: Display the record of the student with the highest marks\n",
    "max_marks = df['Marks'].max()\n",
    "top_student = df[df['Marks'] == max_marks]\n",
    "print(\"\\nStudent with the highest marks:\")\n",
    "print(top_student)\n"
   ]
  },
  {
   "cell_type": "code",
   "execution_count": 6,
   "id": "52c3737f-ee20-4e87-b1ea-434ae7262359",
   "metadata": {},
   "outputs": [
    {
     "name": "stdout",
     "output_type": "stream",
     "text": [
      "Missing values in the DataFrame:\n",
      "    Name    Age  Gender  Marks\n",
      "0  False  False   False  False\n",
      "1  False  False   False   True\n",
      "2  False  False   False  False\n",
      "3  False  False   False  False\n",
      "4  False   True   False  False\n",
      "\n",
      "DataFrame after filling missing 'Marks' with mean:\n",
      "    Name   Age  Gender  Marks\n",
      "0  Alice  20.0  Female  85.00\n",
      "1    Bob  22.0    Male  84.75\n",
      "2  Carol  19.0  Female  92.00\n",
      "3  David  21.0    Male  74.00\n",
      "4    Eve   NaN  Female  88.00\n",
      "\n",
      "DataFrame after dropping rows with missing 'Age':\n",
      "    Name   Age  Gender  Marks\n",
      "0  Alice  20.0  Female  85.00\n",
      "1    Bob  22.0    Male  84.75\n",
      "2  Carol  19.0  Female  92.00\n",
      "3  David  21.0    Male  74.00\n"
     ]
    }
   ],
   "source": [
    "# TASK4--------------------------------\n",
    "import pandas as pd\n",
    "import numpy as np\n",
    "\n",
    "# Step 1: Recreate the original DataFrame\n",
    "data = {\n",
    "    'Name': ['Alice', 'Bob', 'Carol', 'David', 'Eve'],\n",
    "    'Age': [20, 22, 19, 21, 20],\n",
    "    'Gender': ['Female', 'Male', 'Female', 'Male', 'Female'],\n",
    "    'Marks': [85, 78, 92, 74, 88]\n",
    "}\n",
    "df = pd.DataFrame(data)\n",
    "\n",
    "# Step 2: Introduce missing values\n",
    "df.loc[1, 'Marks'] = None\n",
    "df.loc[4, 'Age'] = None\n",
    "\n",
    "# Step 3a: Identify missing values\n",
    "print(\"Missing values in the DataFrame:\")\n",
    "print(df.isnull())\n",
    "\n",
    "# Step 3b: Fill missing Marks with the mean of the Marks column\n",
    "# Fill missing values in the 'Marks' column with the mean (safe version)\n",
    "mean_marks = df['Marks'].mean()\n",
    "df['Marks'] = df['Marks'].fillna(mean_marks)\n",
    "\n",
    "print(\"\\nDataFrame after filling missing 'Marks' with mean:\")\n",
    "print(df)\n",
    "\n",
    "# Step 3c: Drop rows where Age is missing\n",
    "df_cleaned = df.dropna(subset=['Age'])\n",
    "\n",
    "print(\"\\nDataFrame after dropping rows with missing 'Age':\")\n",
    "print(df_cleaned)\n"
   ]
  },
  {
   "cell_type": "code",
   "execution_count": 7,
   "id": "31911660-82e8-4c13-8c91-cbbd89ddf4fe",
   "metadata": {},
   "outputs": [
    {
     "name": "stdout",
     "output_type": "stream",
     "text": [
      "Mean Age and Marks by Gender:\n",
      "               Age      Marks\n",
      "Gender                      \n",
      "Female  19.666667  88.333333\n",
      "Male    21.500000  76.000000\n",
      "\n",
      "Number of students by Gender:\n",
      " Gender\n",
      "Female    3\n",
      "Male      2\n",
      "Name: count, dtype: int64\n"
     ]
    }
   ],
   "source": [
    "# Task-5----------------------------------------------\n",
    "\n",
    "import pandas as pd\n",
    "\n",
    "# Create DataFrame\n",
    "d = {\n",
    "    'Name': ['Alice', 'Bob', 'Carol', 'David', 'Eve'],\n",
    "    'Age': [20, 22, 19, 21, 20],\n",
    "    'Gender': ['Female', 'Male', 'Female', 'Male', 'Female'],\n",
    "    'Marks': [85, 78, 92, 74, 88]\n",
    "}\n",
    "df = pd.DataFrame(d)\n",
    "\n",
    "# Group by Gender and calculate mean Age and Marks\n",
    "g_mean = df.groupby('Gender')[['Age', 'Marks']].mean()\n",
    "print(\"Mean Age and Marks by Gender:\\n\", g_mean)\n",
    "\n",
    "# Count number of students by Gender\n",
    "g_count = df['Gender'].value_counts()\n",
    "print(\"\\nNumber of students by Gender:\\n\", g_count)\n"
   ]
  },
  {
   "cell_type": "code",
   "execution_count": 9,
   "id": "79510000-2e80-4c4f-92c4-d995f4f59556",
   "metadata": {},
   "outputs": [
    {
     "name": "stdout",
     "output_type": "stream",
     "text": [
      "    Name   Age  Gender  Marks\n",
      "0  Alice  20.0  Female  85.00\n",
      "1    Bob  22.0    Male  84.75\n",
      "2  Carol  19.0  Female  92.00\n",
      "3  David  21.0    Male  74.00\n",
      "4    Eve   NaN  Female  88.00\n"
     ]
    }
   ],
   "source": [
    "# Task6---------------------------------------------------------------\n",
    "\n",
    "# Modify the DataFrame from Task 4 with missing values filled\n",
    "df.loc[1, 'Marks'] = None\n",
    "df.loc[4, 'Age'] = None\n",
    "\n",
    "# Fill missing Marks with mean\n",
    "mean_marks = df['Marks'].mean()\n",
    "df['Marks'] = df['Marks'].fillna(mean_marks)\n",
    "\n",
    "# Save to CSV file\n",
    "df.to_csv('students_data.csv', index=False)\n",
    "\n",
    "# Read the CSV file into a new DataFrame\n",
    "df_new = pd.read_csv('students_data.csv')\n",
    "\n",
    "# Display the first 5 rows of the new DataFrame\n",
    "\n",
    "print(df_new.head())\n"
   ]
  },
  {
   "cell_type": "code",
   "execution_count": null,
   "id": "916a6bce-4264-471f-a956-aed955a51dc8",
   "metadata": {},
   "outputs": [],
   "source": [
    "# TASK 7-------------------------------------\n",
    "\n"
   ]
  }
 ],
 "metadata": {
  "kernelspec": {
   "display_name": "Python 3 (ipykernel)",
   "language": "python",
   "name": "python3"
  },
  "language_info": {
   "codemirror_mode": {
    "name": "ipython",
    "version": 3
   },
   "file_extension": ".py",
   "mimetype": "text/x-python",
   "name": "python",
   "nbconvert_exporter": "python",
   "pygments_lexer": "ipython3",
   "version": "3.12.2"
  }
 },
 "nbformat": 4,
 "nbformat_minor": 5
}
