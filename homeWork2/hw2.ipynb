{
 "cells": [
  {
   "cell_type": "code",
   "execution_count": 1,
   "id": "55f24d34-2790-4927-842b-e7dd7188ebc9",
   "metadata": {},
   "outputs": [
    {
     "name": "stdout",
     "output_type": "stream",
     "text": [
      "Data written to data.csv\n"
     ]
    }
   ],
   "source": [
    "import csv\n",
    "\n",
    "data = [\n",
    "    [\"Name\", \"Age\", \"Occupation\"],\n",
    "    [\"Alice\", 28, \"Engineer\"],\n",
    "    [\"Bob\", 32, \"Data Scientist\"],\n",
    "    [\"Charlie\", 24, \"Designer\"]\n",
    "]\n",
    "\n",
    "# Write to CSV file\n",
    "with open('data.csv', 'w', newline='') as file:\n",
    "    writer = csv.writer(file)\n",
    "    writer.writerows(data)  # writerows (plural) for multiple rows\n",
    "\n",
    "print(\"Data written to data.csv\")"
   ]
  },
  {
   "cell_type": "code",
   "execution_count": 2,
   "id": "e390c1aa-727c-47f6-b34a-14de4118cdae",
   "metadata": {},
   "outputs": [
    {
     "name": "stdout",
     "output_type": "stream",
     "text": [
      "Data read from CSV:\n",
      "['Name', 'Age', 'Occupation']\n",
      "['Alice', '28', 'Engineer']\n",
      "['Bob', '32', 'Data Scientist']\n",
      "['Charlie', '24', 'Designer']\n"
     ]
    }
   ],
   "source": [
    "import csv\n",
    "\n",
    "# Read from CSV file\n",
    "with open('data.csv', 'r') as file:\n",
    "    reader = csv.reader(file)\n",
    "    data_from_csv = [row for row in reader]\n",
    "\n",
    "print(\"Data read from CSV:\")\n",
    "for row in data_from_csv:\n",
    "    print(row)"
   ]
  },
  {
   "cell_type": "code",
   "execution_count": null,
   "id": "0c8f4d44-7767-4807-964d-7eb804884eb2",
   "metadata": {},
   "outputs": [],
   "source": []
  }
 ],
 "metadata": {
  "kernelspec": {
   "display_name": "Python 3 (ipykernel)",
   "language": "python",
   "name": "python3"
  },
  "language_info": {
   "codemirror_mode": {
    "name": "ipython",
    "version": 3
   },
   "file_extension": ".py",
   "mimetype": "text/x-python",
   "name": "python",
   "nbconvert_exporter": "python",
   "pygments_lexer": "ipython3",
   "version": "3.12.2"
  }
 },
 "nbformat": 4,
 "nbformat_minor": 5
}
