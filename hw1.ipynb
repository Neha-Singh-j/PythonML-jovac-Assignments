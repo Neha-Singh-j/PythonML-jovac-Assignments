this is first week homework repo
